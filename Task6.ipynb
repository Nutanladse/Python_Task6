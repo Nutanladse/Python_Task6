{
 "cells": [
  {
   "cell_type": "markdown",
   "id": "a392ab04-e49e-4271-bfbb-b94ebee5750c",
   "metadata": {},
   "source": [
    "# Types of Inheritance.\n",
    "## Single Inheritane."
   ]
  },
  {
   "cell_type": "code",
   "execution_count": 1,
   "id": "e740561a-b1aa-49cc-86de-166603bb24c4",
   "metadata": {},
   "outputs": [
    {
     "name": "stdout",
     "output_type": "stream",
     "text": [
      "Buddy barks.\n"
     ]
    }
   ],
   "source": [
    "class Animal: # Base class\n",
    "    def __init__(self, name):\n",
    "        self.name = name\n",
    "\n",
    "class Dog(Animal): # Derived class\n",
    "    def speak(self):\n",
    "        return f\"{self.name} barks.\"\n",
    "\n",
    "dog = Dog(\"Buddy\") # Create an instance of Dog\n",
    "print(dog.speak())  \n"
   ]
  },
  {
   "cell_type": "markdown",
   "id": "f8ef6006-7e5d-4c19-b311-f2173ad5d228",
   "metadata": {},
   "source": [
    "## Multi-level Inheritance."
   ]
  },
  {
   "cell_type": "code",
   "execution_count": 4,
   "id": "81b4c79a-2f90-4118-b754-dec8eaf8cec7",
   "metadata": {},
   "outputs": [
    {
     "name": "stdout",
     "output_type": "stream",
     "text": [
      "Buddy barks.\n",
      "Buddy is playing.\n"
     ]
    }
   ],
   "source": [
    "class Animal: # Base class\n",
    "    def __init__(self, name):\n",
    "        self.name = name\n",
    "        \n",
    "class Dog(Animal): # Derived class\n",
    "    def speak(self):\n",
    "        return f\"{self.name} barks.\"\n",
    "\n",
    "class Puppy(Dog): # Further derived class\n",
    "    def play(self):\n",
    "        return f\"{self.name} is playing.\"\n",
    "\n",
    "puppy = Puppy(\"Buddy\") # Create an instance of Puppy\n",
    "print(puppy.speak()) \n",
    "print(puppy.play())   \n"
   ]
  },
  {
   "cell_type": "markdown",
   "id": "12906329-652c-4028-8532-e2a5612f663e",
   "metadata": {},
   "source": [
    "## Multiple Inheritance."
   ]
  },
  {
   "cell_type": "code",
   "execution_count": 10,
   "id": "5414f849-e8b1-4bf9-98e0-7e28da68943d",
   "metadata": {},
   "outputs": [
    {
     "name": "stdout",
     "output_type": "stream",
     "text": [
      "I can fly!\n",
      "I can swim!\n",
      "Quack!\n"
     ]
    }
   ],
   "source": [
    "class Flyer: # Base class 1\n",
    "    def fly(self):\n",
    "        return \"I can fly!\"\n",
    "\n",
    "class Swimmer: # Base class 2\n",
    "    def swim(self):\n",
    "        return \"I can swim!\"\n",
    "\n",
    "class Duck(Flyer, Swimmer): # Derived class\n",
    "    def quack(self):\n",
    "        return \"Quack!\"\n",
    "\n",
    "duck = Duck() # Create an instance of Duck\n",
    "print(duck.fly())  \n",
    "print(duck.swim())  \n",
    "print(duck.quack()) \n"
   ]
  },
  {
   "cell_type": "markdown",
   "id": "b891b5e8-4858-486f-b588-6f4963d3b366",
   "metadata": {},
   "source": [
    "## Hierarchical Inheritance."
   ]
  },
  {
   "cell_type": "code",
   "execution_count": 13,
   "id": "f31ad7b0-b42c-4b3d-b3f4-1d5797706bc1",
   "metadata": {},
   "outputs": [
    {
     "name": "stdout",
     "output_type": "stream",
     "text": [
      "Dog barks.\n",
      "Cat meows.\n"
     ]
    }
   ],
   "source": [
    "class Animal: # Base class\n",
    "    def speak(self):\n",
    "        return \"Animal makes a sound.\"\n",
    "\n",
    "class Dog(Animal): # Derived class 1\n",
    "    def speak(self):\n",
    "        return \"Dog barks.\"\n",
    "\n",
    "class Cat(Animal): # Derived class 2\n",
    "    def speak(self):\n",
    "        return \"Cat meows.\"\n",
    "\n",
    "dog = Dog() # Create instances of Dog and Cat\n",
    "cat = Cat()\n",
    "\n",
    "print(dog.speak())  \n",
    "print(cat.speak())  \n"
   ]
  },
  {
   "cell_type": "markdown",
   "id": "d5f67733-cc20-4989-b7c5-b68620321242",
   "metadata": {},
   "source": [
    "## Hybrid Inheritance : Multiple Inheritance and Hierarchical Inheritance."
   ]
  },
  {
   "cell_type": "code",
   "execution_count": 17,
   "id": "8df6cef9-72e5-41b7-b0ca-dabe6851d494",
   "metadata": {},
   "outputs": [
    {
     "name": "stdout",
     "output_type": "stream",
     "text": [
      "Animal makes a sound.\n",
      "Bird flies.\n",
      "Fish swims.\n",
      "Duck quacks.\n"
     ]
    }
   ],
   "source": [
    "class Animal: # Base class 1\n",
    "    def speak(self):\n",
    "        return \"Animal makes a sound.\"\n",
    "\n",
    "class Bird(Animal): # Base class 2\n",
    "    def fly(self):\n",
    "        return \"Bird flies.\"\n",
    "\n",
    "class Fish(Animal): # Base class 3\n",
    "    def swim(self):\n",
    "        return \"Fish swims.\"\n",
    "\n",
    "class Duck(Bird, Fish): # Derived class\n",
    "    def quack(self):\n",
    "        return \"Duck quacks.\"\n",
    "        \n",
    "duck = Duck() # Create an instance of Duck\n",
    "print(duck.speak()) \n",
    "print(duck.fly())    \n",
    "print(duck.swim())   \n",
    "print(duck.quack())  \n"
   ]
  }
 ],
 "metadata": {
  "kernelspec": {
   "display_name": "Python 3 (ipykernel)",
   "language": "python",
   "name": "python3"
  },
  "language_info": {
   "codemirror_mode": {
    "name": "ipython",
    "version": 3
   },
   "file_extension": ".py",
   "mimetype": "text/x-python",
   "name": "python",
   "nbconvert_exporter": "python",
   "pygments_lexer": "ipython3",
   "version": "3.12.4"
  }
 },
 "nbformat": 4,
 "nbformat_minor": 5
}
